{
 "cells": [
  {
   "cell_type": "code",
   "execution_count": 1,
   "id": "5cfb87aa",
   "metadata": {},
   "outputs": [],
   "source": [
    "from tabulate import tabulate"
   ]
  },
  {
   "cell_type": "code",
   "execution_count": 3,
   "id": "86ce8cda",
   "metadata": {},
   "outputs": [
    {
     "name": "stdout",
     "output_type": "stream",
     "text": [
      "╒═══════════════════════╤════════════╤════════════╤═══════════╤══════════╕\n",
      "│ Model turi            │   r2_score │        mae │       mse │     rmse │\n",
      "╞═══════════════════════╪════════════╪════════════╪═══════════╪══════════╡\n",
      "│ DecisionTreeRegressor │   0.999997 │ 0.00220751 │ 0.0183781 │ 0.135566 │\n",
      "╘═══════════════════════╧════════════╧════════════╧═══════════╧══════════╛\n"
     ]
    }
   ],
   "source": [
    "data=[\n",
    "    [ \"DecisionTreeRegressor\", 0.9999973047729058,0.0022075055187637973 ,0.018378148355009442, 0.13556602950226668]\n",
    "]\n",
    "sarlovha=[\"Model turi\", \"r2_score\",\"mae\", \"mse\", \"rmse\"]\n",
    "print(tabulate(data,headers=sarlovha,tablefmt=\"fancy_grid\"))"
   ]
  }
 ],
 "metadata": {
  "kernelspec": {
   "display_name": "dars_7",
   "language": "python",
   "name": "python3"
  },
  "language_info": {
   "codemirror_mode": {
    "name": "ipython",
    "version": 3
   },
   "file_extension": ".py",
   "mimetype": "text/x-python",
   "name": "python",
   "nbconvert_exporter": "python",
   "pygments_lexer": "ipython3",
   "version": "3.10.17"
  }
 },
 "nbformat": 4,
 "nbformat_minor": 5
}
